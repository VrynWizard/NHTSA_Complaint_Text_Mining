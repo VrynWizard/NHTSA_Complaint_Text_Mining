{
 "cells": [
  {
   "cell_type": "markdown",
   "metadata": {},
   "source": [
    "# Vehicle Complaints NLP Analysis"
   ]
  },
  {
   "cell_type": "markdown",
   "metadata": {},
   "source": [
    "## Package Loading"
   ]
  },
  {
   "cell_type": "code",
   "execution_count": 7,
   "metadata": {},
   "outputs": [],
   "source": [
    "import pandas as pd\n",
    "import numpy as np\n",
    "import re\n",
    "import spacy\n",
    "from tqdm import tqdm\n",
    "from sklearn.feature_extraction.text import CountVectorizer\n",
    "from sklearn.decomposition import LatentDirichletAllocation\n",
    "from sklearn.cluster import KMeans\n",
    "from sklearn.feature_extraction.text import TfidfVectorizer"
   ]
  },
  {
   "cell_type": "markdown",
   "metadata": {},
   "source": [
    "## Dataset Inspection"
   ]
  },
  {
   "cell_type": "code",
   "execution_count": 8,
   "metadata": {},
   "outputs": [
    {
     "name": "stdout",
     "output_type": "stream",
     "text": [
      "  CMPLID   ODINO             MFR_NAME MAKETXT      MODELTXT YEARTXT CRASH  \\\n",
      "0  79432  516612  General Motors, LLC     GMC  ENVOY DENALI    2007     N   \n",
      "1  79433  516612  General Motors, LLC     GMC  ENVOY DENALI    2007     N   \n",
      "2  79434  516612  General Motors, LLC     GMC  ENVOY DENALI    2007     N   \n",
      "3  79435  516612  General Motors, LLC     GMC  ENVOY DENALI    2007     N   \n",
      "4  79436  516612  General Motors, LLC     GMC  ENVOY DENALI    2007     N   \n",
      "\n",
      "   FAILDATE FIRE INJURED  ...     LDATE  \\\n",
      "0  20150825    N       0  ...  20160106   \n",
      "1  20150825    N       0  ...  20160106   \n",
      "2  20150825    N       0  ...  20160106   \n",
      "3  20150825    N       0  ...  20160106   \n",
      "4  20150825    N       0  ...  20160106   \n",
      "\n",
      "                                              CDESCR CMPL_TYPE POLICE_RPT_YN  \\\n",
      "0  WIRING TO FUEL PUMP BURNT...2007 GMC ENVOY DEN...      EVOQ             N   \n",
      "1  WIRING TO FUEL PUMP BURNT...2007 GMC ENVOY DEN...      EVOQ             N   \n",
      "2  WIRING TO FUEL PUMP BURNT...2007 GMC ENVOY DEN...      EVOQ             N   \n",
      "3  WIRING TO FUEL PUMP BURNT...2007 GMC ENVOY DEN...      EVOQ             N   \n",
      "4  WIRING TO FUEL PUMP BURNT...2007 GMC ENVOY DEN...      EVOQ             N   \n",
      "\n",
      "  ORIG_OWNER_YN ANTI_BRAKES_YN CRUISE_CONT_YN PROD_TYPE MEDICAL_ATTN  \\\n",
      "0             Y              Y              Y         V            N   \n",
      "1             Y              Y              Y         V            N   \n",
      "2             Y              Y              Y         V            N   \n",
      "3             Y              Y              Y         V            N   \n",
      "4             Y              Y              Y         V            N   \n",
      "\n",
      "  VEHICLES_TOWED_YN  \n",
      "0                 N  \n",
      "1                 N  \n",
      "2                 N  \n",
      "3                 N  \n",
      "4                 N  \n",
      "\n",
      "[5 rows x 25 columns]\n"
     ]
    }
   ],
   "source": [
    "df = pd.read_parquet(\"complaints_2015_cleaned.parquet\")\n",
    "print(df.head())"
   ]
  },
  {
   "cell_type": "code",
   "execution_count": 9,
   "metadata": {},
   "outputs": [
    {
     "data": {
      "text/plain": [
       "'WIRING TO FUEL PUMP BURNT...2007 GMC ENVOY DENALI  WHEN DEAD ON HIGHWAY. ..UPDATED 01/07/16 *BF    WHITE BEAR LAKE SUPERSTORE CORRECTED THE PROBLEM BY INSTALLING A NEW ALTERNATOR, IGNITION SWITCH, AND REPLACING THE BATTERY.  *TR'"
      ]
     },
     "execution_count": 9,
     "metadata": {},
     "output_type": "execute_result"
    }
   ],
   "source": [
    "df.loc[0, 'CDESCR']"
   ]
  },
  {
   "cell_type": "code",
   "execution_count": 10,
   "metadata": {},
   "outputs": [
    {
     "data": {
      "text/plain": [
       "'FUEL SYSTEM, GASOLINE:DELIVERY:FUEL PUMP'"
      ]
     },
     "execution_count": 10,
     "metadata": {},
     "output_type": "execute_result"
    }
   ],
   "source": [
    "df.loc[0, 'COMPDESC']"
   ]
  },
  {
   "cell_type": "code",
   "execution_count": 11,
   "metadata": {},
   "outputs": [
    {
     "data": {
      "text/plain": [
       "(872933, 25)"
      ]
     },
     "execution_count": 11,
     "metadata": {},
     "output_type": "execute_result"
    }
   ],
   "source": [
    "df.shape"
   ]
  },
  {
   "cell_type": "markdown",
   "metadata": {},
   "source": [
    "## Basic Unstructured Data Analysis"
   ]
  },
  {
   "cell_type": "markdown",
   "metadata": {},
   "source": [
    "### Step 1: Clean & Normalize the CDESCR Narratives"
   ]
  },
  {
   "cell_type": "code",
   "execution_count": 12,
   "metadata": {},
   "outputs": [
    {
     "name": "stderr",
     "output_type": "stream",
     "text": [
      "/Users/augus/anaconda3/envs/ml/lib/python3.12/site-packages/spacy/util.py:910: UserWarning: [W095] Model 'en_core_web_sm' (3.8.0) was trained with spaCy v3.8.0 and may not be 100% compatible with the current version (3.7.5). If you see errors or degraded performance, download a newer compatible model or retrain your custom model with the current spaCy version. For more details and available updates, run: python -m spacy validate\n",
      "  warnings.warn(warn_msg)\n",
      "100%|██████████| 872933/872933 [2:02:57<00:00, 118.33it/s]    \n"
     ]
    }
   ],
   "source": [
    "\n",
    "nlp = spacy.load(\"en_core_web_sm\", disable=[\"parser\", \"ner\"])  # NER comes later\n",
    "\n",
    "def preprocess_text(text):\n",
    "    text = text.lower()\n",
    "    text = re.sub(r\"\\*?[A-Z]{2,}\\s*|\\*+[A-Z]+\\*+\", \"\", text)  # remove update tags like '*BF', '*TR'\n",
    "    text = re.sub(r\"[^\\w\\s]\", \" \", text)  # remove punctuation\n",
    "    text = re.sub(r\"\\s+\", \" \", text)  # remove extra whitespace\n",
    "    doc = nlp(text.strip())\n",
    "    tokens = [token.lemma_ for token in doc if not token.is_stop and token.is_alpha]\n",
    "    return \" \".join(tokens)\n",
    "\n",
    "tqdm.pandas()\n",
    "df[\"cd_text\"] = df[\"CDESCR\"].fillna(\"\").progress_apply(preprocess_text)"
   ]
  },
  {
   "cell_type": "code",
   "execution_count": 13,
   "metadata": {},
   "outputs": [],
   "source": [
    "df.to_parquet(\"complaints_with_cdtext.parquet\", index=False)\n",
    "df = pd.read_parquet(\"complaints_with_cdtext.parquet\")"
   ]
  },
  {
   "cell_type": "markdown",
   "metadata": {},
   "source": [
    "### Step 2: Extract Named Entities and Key Terms"
   ]
  },
  {
   "cell_type": "code",
   "execution_count": 14,
   "metadata": {},
   "outputs": [
    {
     "name": "stderr",
     "output_type": "stream",
     "text": [
      "/Users/augus/anaconda3/envs/ml/lib/python3.12/site-packages/spacy/util.py:910: UserWarning: [W095] Model 'en_core_web_sm' (3.8.0) was trained with spaCy v3.8.0 and may not be 100% compatible with the current version (3.7.5). If you see errors or degraded performance, download a newer compatible model or retrain your custom model with the current spaCy version. For more details and available updates, run: python -m spacy validate\n",
      "  warnings.warn(warn_msg)\n",
      "100%|██████████| 872933/872933 [45:53<00:00, 317.06it/s]\n"
     ]
    }
   ],
   "source": [
    "\n",
    "nlp = spacy.load(\"en_core_web_sm\")\n",
    "\n",
    "texts = df[\"CDESCR\"].fillna(\"\").tolist()\n",
    "\n",
    "entities_list = []\n",
    "for doc in tqdm(nlp.pipe(texts, batch_size=100), total=len(texts)):\n",
    "    ents = [ent.text.lower() for ent in doc.ents if ent.label_ in [\"ORG\", \"PRODUCT\", \"GPE\", \"NORP\"]]\n",
    "    entities_list.append(ents)\n",
    "\n",
    "df[\"entities\"] = entities_list"
   ]
  },
  {
   "cell_type": "code",
   "execution_count": 15,
   "metadata": {},
   "outputs": [],
   "source": [
    "df.to_parquet(\"complaints_with_entities.parquet\", index=False)\n",
    "df = pd.read_parquet(\"complaints_with_entities.parquet\")"
   ]
  }
 ],
 "metadata": {
  "kernelspec": {
   "display_name": "ml",
   "language": "python",
   "name": "python3"
  },
  "language_info": {
   "codemirror_mode": {
    "name": "ipython",
    "version": 3
   },
   "file_extension": ".py",
   "mimetype": "text/x-python",
   "name": "python",
   "nbconvert_exporter": "python",
   "pygments_lexer": "ipython3",
   "version": "3.12.1"
  }
 },
 "nbformat": 4,
 "nbformat_minor": 2
}
