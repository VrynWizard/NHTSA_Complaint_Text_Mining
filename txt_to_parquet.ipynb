{
 "cells": [
  {
   "cell_type": "markdown",
   "metadata": {},
   "source": [
    "## Instruction on how to get the raw dataset we use\n"
   ]
  },
  {
   "cell_type": "code",
   "execution_count": 10,
   "metadata": {},
   "outputs": [],
   "source": [
    "import pandas as pd\n",
    "import numpy as np\n"
   ]
  },
  {
   "cell_type": "code",
   "execution_count": 1,
   "metadata": {},
   "outputs": [],
   "source": [
    "data = []\n",
    "bad_rows = []\n",
    "\n",
    "with open(\"FLAT_CMPL.txt\", \"rb\") as f:  # open in binary mode to control decoding\n",
    "    for i, raw_line in enumerate(f):\n",
    "        try:\n",
    "            line = raw_line.decode(\"utf-8\")  # decode manually\n",
    "            fields = line.rstrip(\"\\n\").split(\"\\t\")\n",
    "            if len(fields) == 49:\n",
    "                data.append(fields)\n",
    "            else:\n",
    "                bad_rows.append((i + 1, len(fields)))\n",
    "        except UnicodeDecodeError:\n",
    "            bad_rows.append((i + 1, \"decode_error\"))\n",
    "            continue  # skip bad encoding line"
   ]
  },
  {
   "cell_type": "code",
   "execution_count": 5,
   "metadata": {},
   "outputs": [
    {
     "name": "stdout",
     "output_type": "stream",
     "text": [
      "\n",
      "✅ Loaded 2075452 good rows\n",
      "⚠️  Skipped 0 bad rows\n"
     ]
    }
   ],
   "source": [
    "print(f\"\\n✅ Loaded {len(data)} good rows\")\n",
    "print(f\"⚠️  Skipped {len(bad_rows)} bad rows\")"
   ]
  },
  {
   "cell_type": "code",
   "execution_count": 6,
   "metadata": {},
   "outputs": [
    {
     "name": "stdout",
     "output_type": "stream",
     "text": [
      "  0       1                       2      3            4     5  6         7   \\\n",
      "0  1  958241      Volvo Car USA, LLC  VOLVO          760  1987  N             \n",
      "1  2  958130      Ford Motor Company   FORD  THUNDERBIRD  1992  N  19941222   \n",
      "2  3  958132       Kia America, Inc.    KIA       SEPHIA  1994  Y  19941230   \n",
      "3  4  958133  Chrysler (FCA US, LLC)  DODGE          600  1987  N  19941231   \n",
      "4  5  958137  Chrysler (FCA US, LLC)  DODGE      CARAVAN  1991  N  19941218   \n",
      "\n",
      "  8  9   ... 39 40 41 42 43 44 45 46 47 48  \n",
      "0  N  0  ...                    V     N  N  \n",
      "1  N  0  ...                    V     N  N  \n",
      "2  N  0  ...                    V     N  N  \n",
      "3  N  0  ...                    V     N  N  \n",
      "4  N  0  ...                    V     N  N  \n",
      "\n",
      "[5 rows x 49 columns]\n"
     ]
    }
   ],
   "source": [
    "df = pd.DataFrame(data)\n",
    "print(df.head())"
   ]
  },
  {
   "cell_type": "code",
   "execution_count": 12,
   "metadata": {},
   "outputs": [
    {
     "data": {
      "text/plain": [
       "0.4492878469939572"
      ]
     },
     "execution_count": 12,
     "metadata": {},
     "output_type": "execute_result"
    }
   ],
   "source": [
    "# Calculate the proportion of complaints that were filed in 2015 or later\n",
    "valid_mask = df[7].astype(str).str[:4].str.isdigit()\n",
    "np.mean(df[7][valid_mask].astype(str).str[:4].astype(int) >= 2015)"
   ]
  },
  {
   "cell_type": "code",
   "execution_count": 13,
   "metadata": {},
   "outputs": [],
   "source": [
    "df_cleaned = df.copy()\n",
    "df_cleaned = df_cleaned[df_cleaned[7].astype(str).str[:4].str.isdigit()]"
   ]
  },
  {
   "cell_type": "code",
   "execution_count": 14,
   "metadata": {},
   "outputs": [],
   "source": [
    "df_2015 = df_cleaned[\n",
    "    df_cleaned[7].astype(str).str[:4].astype(int) >= 2015\n",
    "]"
   ]
  },
  {
   "cell_type": "code",
   "execution_count": 15,
   "metadata": {},
   "outputs": [],
   "source": [
    "df.to_parquet(\"complaints_2015.parquet\", index=False)"
   ]
  }
 ],
 "metadata": {
  "kernelspec": {
   "display_name": "ml",
   "language": "python",
   "name": "python3"
  },
  "language_info": {
   "codemirror_mode": {
    "name": "ipython",
    "version": 3
   },
   "file_extension": ".py",
   "mimetype": "text/x-python",
   "name": "python",
   "nbconvert_exporter": "python",
   "pygments_lexer": "ipython3",
   "version": "3.12.1"
  }
 },
 "nbformat": 4,
 "nbformat_minor": 2
}
