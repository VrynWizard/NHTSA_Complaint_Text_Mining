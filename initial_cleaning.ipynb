{
 "cells": [
  {
   "cell_type": "code",
   "execution_count": 19,
   "metadata": {},
   "outputs": [],
   "source": [
    "import pandas as pd\n",
    "import numpy as np"
   ]
  },
  {
   "cell_type": "code",
   "execution_count": 20,
   "metadata": {},
   "outputs": [
    {
     "name": "stdout",
     "output_type": "stream",
     "text": [
      "       0       1                    2    3             4     5  6         7  \\\n",
      "0  79432  516612  General Motors, LLC  GMC  ENVOY DENALI  2007  N  20150825   \n",
      "1  79433  516612  General Motors, LLC  GMC  ENVOY DENALI  2007  N  20150825   \n",
      "2  79434  516612  General Motors, LLC  GMC  ENVOY DENALI  2007  N  20150825   \n",
      "3  79435  516612  General Motors, LLC  GMC  ENVOY DENALI  2007  N  20150825   \n",
      "4  79436  516612  General Motors, LLC  GMC  ENVOY DENALI  2007  N  20150825   \n",
      "\n",
      "   8  9  ... 39                          40 41 42 43 44 45 46 47 48  \n",
      "0  N  0  ...     WHITE BEAR LAKE SUPERSTORE              V     N  N  \n",
      "1  N  0  ...     WHITE BEAR LAKE SUPERSTORE              V     N  N  \n",
      "2  N  0  ...     WHITE BEAR LAKE SUPERSTORE              V     N  N  \n",
      "3  N  0  ...     WHITE BEAR LAKE SUPERSTORE              V     N  N  \n",
      "4  N  0  ...     WHITE BEAR LAKE SUPERSTORE              V     N  N  \n",
      "\n",
      "[5 rows x 49 columns]\n"
     ]
    }
   ],
   "source": [
    "\n",
    "df = pd.read_parquet(\"complaints_2015.parquet\")\n",
    "print(df.head())"
   ]
  },
  {
   "cell_type": "code",
   "execution_count": 21,
   "metadata": {},
   "outputs": [
    {
     "data": {
      "text/plain": [
       "0                                                 79432\n",
       "1                                                516612\n",
       "2                                   General Motors, LLC\n",
       "3                                                   GMC\n",
       "4                                          ENVOY DENALI\n",
       "5                                                  2007\n",
       "6                                                     N\n",
       "7                                              20150825\n",
       "8                                                     N\n",
       "9                                                     0\n",
       "10                                                    0\n",
       "11             FUEL SYSTEM, GASOLINE:DELIVERY:FUEL PUMP\n",
       "12                                           STILLWATER\n",
       "13                                                   MN\n",
       "14                                          1GKET63M572\n",
       "15                                             19970627\n",
       "16                                             20160106\n",
       "17                                                     \n",
       "18                                                    1\n",
       "19    WIRING TO FUEL PUMP BURNT...2007 GMC ENVOY DEN...\n",
       "20                                                 EVOQ\n",
       "21                                                    N\n",
       "22                                                     \n",
       "23                                                    Y\n",
       "24                                                    Y\n",
       "25                                                    Y\n",
       "26                                                    8\n",
       "27                                                  RWD\n",
       "28                                                   FI\n",
       "29                                                   GS\n",
       "30                                                 AUTO\n",
       "31                                                    0\n",
       "32                                                     \n",
       "33                                                     \n",
       "34                                                     \n",
       "35                                                     \n",
       "36                                                     \n",
       "37                                                     \n",
       "38                                                     \n",
       "39                                                     \n",
       "40                           WHITE BEAR LAKE SUPERSTORE\n",
       "41                                                     \n",
       "42                                                     \n",
       "43                                                     \n",
       "44                                                     \n",
       "45                                                    V\n",
       "46                                                     \n",
       "47                                                    N\n",
       "48                                                    N\n",
       "Name: 0, dtype: object"
      ]
     },
     "execution_count": 21,
     "metadata": {},
     "output_type": "execute_result"
    }
   ],
   "source": [
    "df.iloc[0]"
   ]
  },
  {
   "cell_type": "code",
   "execution_count": 22,
   "metadata": {},
   "outputs": [],
   "source": [
    "column_names = [\n",
    "    \"CMPLID\", \"ODINO\", \"MFR_NAME\", \"MAKETXT\", \"MODELTXT\", \"YEARTXT\", \"CRASH\", \"FAILDATE\",\n",
    "    \"FIRE\", \"INJURED\", \"DEATHS\", \"COMPDESC\", \"CITY\", \"STATE\", \"VIN\", \"DATEA\", \"LDATE\",\n",
    "    \"MILES\", \"OCCURENCES\", \"CDESCR\", \"CMPL_TYPE\", \"POLICE_RPT_YN\", \"PURCH_DT\",\n",
    "    \"ORIG_OWNER_YN\", \"ANTI_BRAKES_YN\", \"CRUISE_CONT_YN\", \"NUM_CYLS\", \"DRIVE_TRAIN\",\n",
    "    \"FUEL_SYS\", \"FUEL_TYPE\", \"TRANS_TYPE\", \"VEH_SPEED\", \"DOT\", \"TIRE_SIZE\", \"LOC_OF_TIRE\",\n",
    "    \"TIRE_FAIL_TYPE\", \"ORIG_EQUIP_YN\", \"MANUF_DT\", \"SEAT_TYPE\", \"RESTRAINT_TYPE\",\n",
    "    \"DEALER_NAME\", \"DEALER_TEL\", \"DEALER_CITY\", \"DEALER_STATE\", \"DEALER_ZIP\",\n",
    "    \"PROD_TYPE\", \"REPAIRED_YN\", \"MEDICAL_ATTN\", \"VEHICLES_TOWED_YN\"\n",
    "]\n",
    "df.columns = column_names"
   ]
  },
  {
   "cell_type": "code",
   "execution_count": 23,
   "metadata": {},
   "outputs": [],
   "source": [
    "df = df.replace(r'^\\s*$', np.nan, regex=True)\n"
   ]
  },
  {
   "cell_type": "code",
   "execution_count": 24,
   "metadata": {},
   "outputs": [
    {
     "data": {
      "text/plain": [
       "CMPLID                    0\n",
       "ODINO                     0\n",
       "MFR_NAME                 15\n",
       "MAKETXT                  15\n",
       "MODELTXT                 15\n",
       "YEARTXT                  15\n",
       "CRASH                     0\n",
       "FAILDATE                  0\n",
       "FIRE                      0\n",
       "INJURED                   0\n",
       "DEATHS                    0\n",
       "COMPDESC                  7\n",
       "CITY                      0\n",
       "STATE                     0\n",
       "VIN                   49502\n",
       "DATEA                     0\n",
       "LDATE                     0\n",
       "MILES                391778\n",
       "OCCURENCES           815529\n",
       "CDESCR                    1\n",
       "CMPL_TYPE                 0\n",
       "POLICE_RPT_YN             0\n",
       "PURCH_DT             870991\n",
       "ORIG_OWNER_YN         10054\n",
       "ANTI_BRAKES_YN        10054\n",
       "CRUISE_CONT_YN        10054\n",
       "NUM_CYLS             815631\n",
       "DRIVE_TRAIN          813941\n",
       "FUEL_SYS             876095\n",
       "FUEL_TYPE            823413\n",
       "TRANS_TYPE           874388\n",
       "VEH_SPEED            370504\n",
       "DOT                  879230\n",
       "TIRE_SIZE            880419\n",
       "LOC_OF_TIRE          878653\n",
       "TIRE_FAIL_TYPE       880360\n",
       "ORIG_EQUIP_YN        880147\n",
       "MANUF_DT             881504\n",
       "SEAT_TYPE            881415\n",
       "RESTRAINT_TYPE       881577\n",
       "DEALER_NAME          827769\n",
       "DEALER_TEL           866355\n",
       "DEALER_CITY          831733\n",
       "DEALER_STATE         831431\n",
       "DEALER_ZIP           837723\n",
       "PROD_TYPE                15\n",
       "REPAIRED_YN          877715\n",
       "MEDICAL_ATTN              0\n",
       "VEHICLES_TOWED_YN     10054\n",
       "dtype: int64"
      ]
     },
     "execution_count": 24,
     "metadata": {},
     "output_type": "execute_result"
    }
   ],
   "source": [
    "df.isna().sum()"
   ]
  },
  {
   "cell_type": "code",
   "execution_count": 49,
   "metadata": {},
   "outputs": [],
   "source": [
    "df_cleaned_row = df.copy()\n",
    "cols_to_clean = df_cleaned_row.columns[df_cleaned_row.isna().sum() < 20000]\n",
    "df_cleaned_row = df_cleaned_row.dropna(subset=cols_to_clean)"
   ]
  },
  {
   "cell_type": "code",
   "execution_count": 50,
   "metadata": {},
   "outputs": [
    {
     "data": {
      "text/plain": [
       "CMPLID                    0\n",
       "ODINO                     0\n",
       "MFR_NAME                  0\n",
       "MAKETXT                   0\n",
       "MODELTXT                  0\n",
       "YEARTXT                   0\n",
       "CRASH                     0\n",
       "FAILDATE                  0\n",
       "FIRE                      0\n",
       "INJURED                   0\n",
       "DEATHS                    0\n",
       "COMPDESC                  0\n",
       "CITY                      0\n",
       "STATE                     0\n",
       "VIN                   39447\n",
       "DATEA                     0\n",
       "LDATE                     0\n",
       "MILES                381724\n",
       "OCCURENCES           806505\n",
       "CDESCR                    0\n",
       "CMPL_TYPE                 0\n",
       "POLICE_RPT_YN             0\n",
       "PURCH_DT             862474\n",
       "ORIG_OWNER_YN             0\n",
       "ANTI_BRAKES_YN            0\n",
       "CRUISE_CONT_YN            0\n",
       "NUM_CYLS             805575\n",
       "DRIVE_TRAIN          803885\n",
       "FUEL_SYS             866039\n",
       "FUEL_TYPE            813357\n",
       "TRANS_TYPE           864332\n",
       "VEH_SPEED            360450\n",
       "DOT                  872933\n",
       "TIRE_SIZE            872933\n",
       "LOC_OF_TIRE          872933\n",
       "TIRE_FAIL_TYPE       872933\n",
       "ORIG_EQUIP_YN        872933\n",
       "MANUF_DT             872933\n",
       "SEAT_TYPE            872933\n",
       "RESTRAINT_TYPE       872933\n",
       "DEALER_NAME          817832\n",
       "DEALER_TEL           856312\n",
       "DEALER_CITY          821779\n",
       "DEALER_STATE         821477\n",
       "DEALER_ZIP           827746\n",
       "PROD_TYPE                 0\n",
       "REPAIRED_YN          872933\n",
       "MEDICAL_ATTN              0\n",
       "VEHICLES_TOWED_YN         0\n",
       "dtype: int64"
      ]
     },
     "execution_count": 50,
     "metadata": {},
     "output_type": "execute_result"
    }
   ],
   "source": [
    "df_cleaned_row.isna().sum()"
   ]
  },
  {
   "cell_type": "code",
   "execution_count": 51,
   "metadata": {},
   "outputs": [],
   "source": [
    "threshold = 20000\n",
    "df_cleaned = df_cleaned_row.loc[:, df_cleaned_row.isna().sum() <= threshold]"
   ]
  },
  {
   "cell_type": "code",
   "execution_count": 52,
   "metadata": {},
   "outputs": [
    {
     "data": {
      "text/plain": [
       "CMPLID               0\n",
       "ODINO                0\n",
       "MFR_NAME             0\n",
       "MAKETXT              0\n",
       "MODELTXT             0\n",
       "YEARTXT              0\n",
       "CRASH                0\n",
       "FAILDATE             0\n",
       "FIRE                 0\n",
       "INJURED              0\n",
       "DEATHS               0\n",
       "COMPDESC             0\n",
       "CITY                 0\n",
       "STATE                0\n",
       "DATEA                0\n",
       "LDATE                0\n",
       "CDESCR               0\n",
       "CMPL_TYPE            0\n",
       "POLICE_RPT_YN        0\n",
       "ORIG_OWNER_YN        0\n",
       "ANTI_BRAKES_YN       0\n",
       "CRUISE_CONT_YN       0\n",
       "PROD_TYPE            0\n",
       "MEDICAL_ATTN         0\n",
       "VEHICLES_TOWED_YN    0\n",
       "dtype: int64"
      ]
     },
     "execution_count": 52,
     "metadata": {},
     "output_type": "execute_result"
    }
   ],
   "source": [
    "df_cleaned.isna().sum()"
   ]
  },
  {
   "cell_type": "code",
   "execution_count": 53,
   "metadata": {},
   "outputs": [],
   "source": [
    "df_cleaned.to_parquet(\"complaints_2015_cleaned.parquet\")"
   ]
  }
 ],
 "metadata": {
  "kernelspec": {
   "display_name": "ml",
   "language": "python",
   "name": "python3"
  },
  "language_info": {
   "codemirror_mode": {
    "name": "ipython",
    "version": 3
   },
   "file_extension": ".py",
   "mimetype": "text/x-python",
   "name": "python",
   "nbconvert_exporter": "python",
   "pygments_lexer": "ipython3",
   "version": "3.12.1"
  }
 },
 "nbformat": 4,
 "nbformat_minor": 2
}
